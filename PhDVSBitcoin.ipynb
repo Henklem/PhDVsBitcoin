{
 "cells": [
  {
   "cell_type": "markdown",
   "id": "350792b3",
   "metadata": {},
   "source": [
    "# Working on your PhD thesis for 10 years is a long time and one wonders if there is not better way to spend the resources going into it. \n",
    "# In this Jupyter Notebook we would like to analyze what would have happened if we instead put our tuition money into bitcoint for that period of time"
   ]
  },
  {
   "cell_type": "code",
   "execution_count": 1,
   "id": "322e688a",
   "metadata": {},
   "outputs": [],
   "source": [
    "import pandas as pd\n",
    "from datetime import datetime, timedelta, timezone"
   ]
  },
  {
   "cell_type": "markdown",
   "id": "271ca7da",
   "metadata": {},
   "source": [
    "## First we access historical bitoin data from the following kaggle data set https://www.kaggle.com/datasets/mczielinski/bitcoin-historical-data and store it as file path"
   ]
  },
  {
   "cell_type": "code",
   "execution_count": 2,
   "id": "a862a19a",
   "metadata": {},
   "outputs": [],
   "source": [
    "# Specify the file path and chunk size\n",
    "file_path = 'archive/btcusd_1-min_data.csv'  # Corrected file path"
   ]
  },
  {
   "cell_type": "markdown",
   "id": "b0c47a85",
   "metadata": {},
   "source": [
    "## We now access data about the tuition money in the University of Hamburg. We are interested in the period from winter semester 2014 up to winter semester 2024. The available data only dates back to summer semester 2019 found here https://www.uni-hamburg.de/campuscenter/studienorganisation/studienverlauf/beitraege-gebuehren/semesterbeitrag.html . We simply assume that before that time, the tuition has been increased by 3 Euro every 2 years which seems to be the case in the last period we have data for."
   ]
  },
  {
   "cell_type": "code",
   "execution_count": 3,
   "id": "4c781d3e",
   "metadata": {},
   "outputs": [],
   "source": [
    "# Tuition data for each semester\n",
    "tuition = {\n",
    "    \"2014-09-30\": 319.0,\n",
    "    \"2015-03-30\": 322.0,\n",
    "    \"2015-09-30\": 322.0,\n",
    "    \"2016-03-30\": 322.0,\n",
    "    \"2016-09-30\": 322.0,\n",
    "    \"2017-03-30\": 325.0,\n",
    "    \"2017-09-30\": 325.0,\n",
    "    \"2018-03-30\": 325.0,\n",
    "    \"2018-09-30\": 325.0,\n",
    "    \"2019-03-30\": 328.0,\n",
    "    \"2019-09-30\": 328.0,\n",
    "    \"2020-03-30\": 328.0,\n",
    "    \"2020-09-30\": 328.0,\n",
    "    \"2021-03-30\": 332.0,\n",
    "    \"2021-09-30\": 335.0,\n",
    "    \"2022-03-30\": 335.0,\n",
    "    \"2022-09-30\": 337.5,\n",
    "    \"2023-03-30\": 339.9,\n",
    "    \"2023-09-30\": 340.0,\n",
    "    \"2024-03-30\": 332.0,\n",
    "    \"2024-09-30\": 335.0\n",
    "}"
   ]
  },
  {
   "cell_type": "markdown",
   "id": "6fec344e",
   "metadata": {},
   "source": [
    "## We now assume that we pay our tuition always on the last possible day, which would be 30th of March and 30th of September for a given year. We always would pay at 10 am."
   ]
  },
  {
   "cell_type": "code",
   "execution_count": 23,
   "id": "7ed0f3e3",
   "metadata": {},
   "outputs": [],
   "source": [
    "target_times = [\n",
    "    {\"month\": 9, \"day\": 30, \"hour\": 10, \"minute\": 0},  # 30th September 10:00 am\n",
    "    {\"month\": 3, \"day\": 30, \"hour\": 10, \"minute\": 0},  # 30th March 10:00 am\n",
    "]\n"
   ]
  },
  {
   "cell_type": "markdown",
   "id": "7c0c76c7",
   "metadata": {},
   "source": [
    "## Now we parse the initial bitcoin data set in 1e5 row chunks and generate a new data set containing bitcoin prices at the time of the tuition payments (we always take the \"Low\" value for a given minute). If the data is not available for 10 am we will take the closest time stamp to the desired time."
   ]
  },
  {
   "cell_type": "code",
   "execution_count": 4,
   "id": "33b9daa5",
   "metadata": {},
   "outputs": [],
   "source": [
    "# Define a function to find the closest row to a target time\n",
    "def find_closest_row(chunk, target_datetime):\n",
    "    # Work on a copy to avoid modifying the original slice\n",
    "    chunk = chunk.copy()\n",
    "    chunk[\"Time_Difference\"] = abs(chunk[\"Datetime\"] - target_datetime)\n",
    "    return chunk.loc[chunk[\"Time_Difference\"].idxmin()]"
   ]
  },
  {
   "cell_type": "code",
   "execution_count": 7,
   "id": "aea87138",
   "metadata": {},
   "outputs": [
    {
     "name": "stdout",
     "output_type": "stream",
     "text": [
      "Data filtering complete. Saved to 'filtered_data_with_tuition.csv'.\n"
     ]
    }
   ],
   "source": [
    "# Initialize an empty list to store results\n",
    "filtered_data = []\n",
    "chunk_size = 100000\n",
    "\n",
    "# Process the data in chunks\n",
    "for chunk in pd.read_csv(file_path, chunksize=chunk_size):\n",
    "    # Drop rows where Timestamp is NaN\n",
    "    chunk = chunk.dropna(subset=[\"Timestamp\"])\n",
    "\n",
    "    # Convert Timestamp to a datetime object\n",
    "    chunk[\"Datetime\"] = pd.to_datetime(chunk[\"Timestamp\"], unit=\"s\", utc=True, errors=\"coerce\")\n",
    "\n",
    "    # Filter rows after 30-09-2014\n",
    "    chunk = chunk.loc[chunk[\"Datetime\"] >= datetime(2014, 9, 30, 0, 0, 0, tzinfo=timezone.utc)]\n",
    "\n",
    "    # Loop through each target time\n",
    "    for target in target_times:\n",
    "        # Construct the target datetime for each year in the chunk\n",
    "        unique_years = chunk[\"Datetime\"].dt.year.unique()\n",
    "        for year in unique_years:\n",
    "            target_datetime = datetime(\n",
    "                year=year,\n",
    "                month=target[\"month\"],\n",
    "                day=target[\"day\"],\n",
    "                hour=target[\"hour\"],\n",
    "                minute=target[\"minute\"],\n",
    "                tzinfo=timezone.utc\n",
    "            )\n",
    "            # Find rows close to the target date\n",
    "            rows_close_to_target = chunk.loc[\n",
    "                (chunk[\"Datetime\"] >= target_datetime - timedelta(hours=1)) &\n",
    "                (chunk[\"Datetime\"] <= target_datetime + timedelta(hours=1))\n",
    "                ]\n",
    "            if not rows_close_to_target.empty:\n",
    "                # Add the closest row to the filtered data\n",
    "                closest_row = find_closest_row(rows_close_to_target, target_datetime)\n",
    "\n",
    "                # Add the tuition value based on the semester\n",
    "                semester_key = target_datetime.strftime(\"%Y-%m-%d\")\n",
    "                closest_row[\"Tuition\"] = tuition.get(semester_key, None)\n",
    "\n",
    "                filtered_data.append(closest_row)\n",
    "\n",
    "# Concatenate all the filtered rows into a DataFrame\n",
    "tuition_data = pd.DataFrame(filtered_data)\n",
    "\n",
    "# Save the filtered data to a new CSV file\n",
    "tuition_data.to_csv(\"filtered_data_with_tuition.csv\", index=False)\n",
    "\n",
    "print(\"Data filtering complete. Saved to 'filtered_data_with_tuition.csv'.\")"
   ]
  },
  {
   "cell_type": "markdown",
   "id": "a5b7ccbf",
   "metadata": {},
   "source": [
    "## Now we add new columns to the data set containing the amount of bitcoins that could have been purchased for a given semester. We also add a column with the added amount of bitcoins that have been accumulated over time"
   ]
  },
  {
   "cell_type": "code",
   "execution_count": 24,
   "id": "19fcb32d",
   "metadata": {},
   "outputs": [],
   "source": [
    "# Load the dataset from the CSV file\n",
    "df = pd.read_csv('filtered_data_with_tuition.csv')\n",
    "\n",
    "# Calculate the Bitcoin purchased on each date\n",
    "df['Bitcoins_Purchased'] = df['Tuition'] / df['Low']\n",
    "\n",
    "# Calculate the accumulated Bitcoin up to that date\n",
    "df['Total_Bitcoins'] = df['Bitcoins_Purchased'].cumsum()\n",
    "\n",
    "# Save the updated DataFrame to a new CSV file if needed\n",
    "df.to_csv('updated_filtered_data.csv', index=False)"
   ]
  },
  {
   "cell_type": "markdown",
   "id": "0bcc1148",
   "metadata": {},
   "source": [
    "## Now we load the initial bitcoin price data and add a human readable date entry"
   ]
  },
  {
   "cell_type": "code",
   "execution_count": 9,
   "id": "07bbe8c8",
   "metadata": {},
   "outputs": [],
   "source": [
    "# Load the dataset\n",
    "btc_data = pd.read_csv('archive/btcusd_1-min_data.csv')  # Adjust the file path as needed\n",
    "\n",
    "# Convert 'Timestamp' to datetime\n",
    "btc_data['Datetime'] = pd.to_datetime(btc_data['Timestamp'], unit='s')\n",
    "\n",
    "# Set the Datetime column as the index\n",
    "btc_data.set_index('Datetime', inplace=True)\n",
    "\n",
    "# Add a column for the date (to group by day)\n",
    "btc_data['Date'] = btc_data.index.date"
   ]
  },
  {
   "cell_type": "markdown",
   "id": "02e0d406",
   "metadata": {},
   "source": [
    "## For the final plot we now want a data set that cointains the daily value of the accumulated bitcoins for the 10 year period. For reasons of arbitrariness we will take price at 8 am or the closest available entry if the one at 8 am is invalid"
   ]
  },
  {
   "cell_type": "code",
   "execution_count": 25,
   "id": "a023486e",
   "metadata": {},
   "outputs": [],
   "source": [
    "# Function to find the closest row to 8 AM, falling back to the closest valid 'Low' if 8 AM is missing\n",
    "def get_closest_to_8am(group):\n",
    "    # Remove rows where 'Low' is NaN\n",
    "    group = group[group['Low'].notna()]\n",
    "\n",
    "    # Define the target time (8 AM for the given date)\n",
    "    eight_am = pd.Timestamp(f'{group.index[0].date()} 08:00:00')\n",
    "\n",
    "    # If 8 AM exists in the data, return it\n",
    "    if eight_am in group.index:\n",
    "        return group.loc[eight_am]\n",
    "    else:\n",
    "        # Calculate the time difference in seconds for each row\n",
    "        time_diff = (group.index - eight_am).total_seconds()\n",
    "\n",
    "        # Find the index of the closest time (smallest absolute difference)\n",
    "        closest_time_idx = (time_diff).argmin()  # Get the index of the closest time\n",
    "\n",
    "        return group.iloc[closest_time_idx]"
   ]
  },
  {
   "cell_type": "markdown",
   "id": "3d4388c3",
   "metadata": {},
   "source": [
    "## First we reduce the data set to daily entries and save it"
   ]
  },
  {
   "cell_type": "code",
   "execution_count": 26,
   "id": "93d701f7",
   "metadata": {},
   "outputs": [],
   "source": [
    "# Apply the function to each group (day)\n",
    "daily_btc = btc_data.groupby('Date').apply(get_closest_to_8am).reset_index(drop=True)\n",
    "\n",
    "# Optional: Save the result to a new CSV file\n",
    "daily_btc.to_csv('filtered_btc_data_per_day.csv', index=False)"
   ]
  },
  {
   "cell_type": "markdown",
   "id": "b11a26ea",
   "metadata": {},
   "source": [
    "## Now we ensure that the dates are set correctly"
   ]
  },
  {
   "cell_type": "code",
   "execution_count": 28,
   "id": "2119d150",
   "metadata": {},
   "outputs": [],
   "source": [
    "# Load the filtered BTC data (per day)\n",
    "filtered_btc_data = pd.read_csv('filtered_btc_data_per_day.csv')\n",
    "\n",
    "# Load the tuition data\n",
    "tuition_data = pd.read_csv('filtered_data_with_tuition.csv')\n",
    "\n",
    "# Ensure 'Date' in BTC data and 'Datetime' in tuition data are in datetime format\n",
    "filtered_btc_data['Date'] = pd.to_datetime(filtered_btc_data['Date'])\n",
    "tuition_data['Datetime'] = pd.to_datetime(tuition_data['Datetime'], utc=True)\n",
    "\n",
    "# Convert the 'Datetime' in tuition data to timezone-naive (removing UTC)\n",
    "tuition_data['Datetime'] = tuition_data['Datetime'].dt.tz_localize(None)\n"
   ]
  },
  {
   "cell_type": "markdown",
   "id": "b10d7318",
   "metadata": {},
   "source": [
    "## We now create a new file with all the information we would like to plot. This contains the current bitcoin price, the amount of bitcoins purchased, the value of those bicoins, and the accumulated amount of tuition money invested"
   ]
  },
  {
   "cell_type": "code",
   "execution_count": 29,
   "id": "48f6ae71",
   "metadata": {},
   "outputs": [],
   "source": [
    "\n",
    "# Initialize a list to store results\n",
    "results = []\n",
    "\n",
    "# Initialize variables to track accumulated tuition, bitcoins purchased, and total bitcoin value\n",
    "accumulated_tuition = 0\n",
    "bitcoins_purchased = 0\n",
    "\n",
    "# Loop through each row in the filtered BTC data\n",
    "for _, btc_row in filtered_btc_data.iterrows():\n",
    "    btc_date = btc_row['Date']\n",
    "\n",
    "    # Check if there is a tuition entry for this date (within a small tolerance for date matching)\n",
    "    tuition_entry = tuition_data[tuition_data['Datetime'].dt.date == btc_date.date()]\n",
    "\n",
    "    if not tuition_entry.empty:\n",
    "        # If tuition entry exists for this date, purchase bitcoins\n",
    "        tuition_entry = tuition_entry.iloc[0]\n",
    "\n",
    "        # Calculate how many bitcoins are purchased (only once per purchase date)\n",
    "        bitcoins_purchased += tuition_entry['Tuition'] / btc_row['Low']\n",
    "\n",
    "        # Update accumulated tuition\n",
    "        accumulated_tuition += tuition_entry['Tuition']\n",
    "\n",
    "    # Calculate the value of the bitcoins purchased so far\n",
    "    bitcoin_value = bitcoins_purchased * btc_row['Low']\n",
    "\n",
    "    # Append the result for this row\n",
    "    results.append({\n",
    "        'Date': btc_date,\n",
    "        'Low': btc_row['Low'],\n",
    "        'Bitcoins Purchased': bitcoins_purchased,\n",
    "        'Bitcoin Value': bitcoin_value,\n",
    "        'Accumulated Tuition': accumulated_tuition\n",
    "    })\n",
    "    \n",
    "final_data = pd.DataFrame(results)\n",
    "\n",
    "# Save the resulting data to a new CSV file\n",
    "final_data.to_csv('final_btc_tuition_data.csv', index=False)\n",
    "\n",
    "# Print a confirmation message\n",
    "print(\"The file 'final_btc_tuition_data.csv' has been created successfully.\")"
   ]
  },
  {
   "cell_type": "markdown",
   "id": "7f4bde53",
   "metadata": {},
   "source": [
    "## Now we would like to create a seaborn plot with the mentioned data all in one picture\n"
   ]
  },
  {
   "cell_type": "code",
   "execution_count": 15,
   "id": "ef7046b9",
   "metadata": {},
   "outputs": [],
   "source": [
    "\n",
    "import seaborn as sns\n",
    "import matplotlib.pyplot as plt\n",
    "import matplotlib.dates as mdates"
   ]
  },
  {
   "cell_type": "code",
   "execution_count": 21,
   "id": "7bf88a43",
   "metadata": {},
   "outputs": [
    {
     "data": {
      "image/png": "[encoded data removed]",
      "text/plain": [
       "<Figure size 1008x504 with 2 Axes>"
      ]
     },
     "metadata": {},
     "output_type": "display_data"
    }
   ],
   "source": [
    "\n",
    "final_data = pd.read_csv('final_btc_tuition_data.csv')\n",
    "\n",
    "# Ensure 'Date' is in datetime format\n",
    "final_data['Date'] = pd.to_datetime(final_data['Date'])\n",
    "\n",
    "# Filter the data to start just before the first Bitcoin purchase\n",
    "start_date = final_data['Date'].iloc[0]  # Get the first date of purchase\n",
    "filtered_data_for_plot = final_data[final_data['Date'] >= start_date]\n",
    "\n",
    "# Set the plotting style\n",
    "sns.set(style=\"whitegrid\")\n",
    "\n",
    "# Create a plot with one graph and dual y-axes\n",
    "fig, ax1 = plt.subplots(figsize=(14, 7))# Plot Bitcoin Price, Total Bitcoin Value, and Accumulated Tuition (in USD)\n",
    "sns.lineplot(x='Date', y='Low', data=filtered_data_for_plot, ax=ax1, color='b', label='Bitcoin Price (USD)')\n",
    "sns.lineplot(x='Date', y='Bitcoin Value', data=filtered_data_for_plot, ax=ax1, color='r', label='Total Bitcoin Value (USD)')\n",
    "sns.lineplot(x='Date', y='Accumulated Tuition', data=filtered_data_for_plot, ax=ax1, color='purple', label='Accumulated Tuition (USD)')\n",
    "\n",
    "# Set the first y-axis labels (Bitcoin-related values)\n",
    "ax1.set_xlabel('Date')\n",
    "ax1.set_ylabel('Bitcoin Price, Total Bitcoin Value, Accumulated Tuition', color='black')\n",
    "ax1.tick_params(axis='y', labelcolor='black')\n",
    "\n",
    "# Create a second y-axis for the Bitcoins Purchased\n",
    "ax2 = ax1.twinx()\n",
    "\n",
    "# Plot Bitcoins Purchased correctly on the second axis\n",
    "sns.lineplot(x='Date', y='Bitcoins Purchased', data=filtered_data_for_plot, ax=ax2, color='g', label='Bitcoins Purchased')\n",
    "\n",
    "# Set the second y-axis labels (Bitcoins)\n",
    "ax2.set_ylabel('Bitcoins Purchased', color='green')\n",
    "ax2.tick_params(axis='y', labelcolor='green')\n",
    "\n",
    "# Set titles and labels\n",
    "ax1.set_title('Bitcoin Price, Value, and Accumulated Tuition Over Time')\n",
    "\n",
    "# Adjust the x-axis to show every year correctly\n",
    "ax1.xaxis.set_major_locator(mdates.YearLocator())  # Major ticks every year\n",
    "ax1.xaxis.set_major_formatter(mdates.DateFormatter('%Y'))  # Format as 'YYYY'\n",
    "\n",
    "# Ensure the x-axis ticks correspond to actual data points (without overlap)\n",
    "plt.xticks(filtered_data_for_plot['Date'][::365], rotation=45)  # Sample ticks per year\n",
    "\n",
    "# Remove redundant legends from ax2\n",
    "ax2.legend_.remove()\n",
    "\n",
    "# Save the plot as a high-resolution image\n",
    "plt.tight_layout()\n",
    "plt.savefig('bitcoin_analysis_plot_final.png', dpi=300)\n",
    "\n",
    "# Show the plot\n",
    "plt.show()"
   ]
  },
  {
   "cell_type": "markdown",
   "id": "f58f30f9",
   "metadata": {},
   "source": [
    "## So finally we can see how our Life would look like if we hadn't done our PhD. We would own half a million USD in bitcoin just by investing our tuition money."
   ]
  }
 ],
 "metadata": {
  "kernelspec": {
   "display_name": "Python 3 (ipykernel)",
   "language": "python",
   "name": "python3"
  },
  "language_info": {
   "codemirror_mode": {
    "name": "ipython",
    "version": 3
   },
   "file_extension": ".py",
   "mimetype": "text/x-python",
   "name": "python",
   "nbconvert_exporter": "python",
   "pygments_lexer": "ipython3",
   "version": "3.9.7"
  }
 },
 "nbformat": 4,
 "nbformat_minor": 5
}
